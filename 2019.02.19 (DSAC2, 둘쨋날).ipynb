{
 "cells": [
  {
   "cell_type": "markdown",
   "metadata": {},
   "source": [
    "# DSAC2 둘쨋날"
   ]
  },
  {
   "cell_type": "markdown",
   "metadata": {},
   "source": [
    "면접 tip?\n",
    "\n",
    "내가 특이한걸 보여줘야함???\n",
    "\n",
    "능력이 있다는 것을 보여줘얗\n",
    "\n",
    "프로그램으로 돌리는걸 해당 기업에 관련된 분야에 대해서 한번 해보고 가라고 하심\n",
    "\n",
    "> www.data.go.kr : 한국 공공데이터포털\n",
    "\n",
    "> www.data.gov : 미국 공공데이터포털\n",
    "\n",
    "> www.kaggle.com : 예측모델 및 분석 대회 **플랫폼**"
   ]
  },
  {
   "cell_type": "markdown",
   "metadata": {},
   "source": [
    "앞으로, 남은 기간동안 머신러닝의 맛보기를 해볼 예정.\n",
    "\n",
    "머신러닝은 data를 trainning, validata, testing 3개로 나누어 한다.(지금은 data가 적어 트레이닝과 테스팅만함.)\n",
    "\n",
    "머신러닝은 대표적으로 3가지를 꼽을 수 있다.\n",
    "\n",
    "1. Clustering(군집)은 **unsupervised(비지도)** 형태의 머신러닝 형태이다.\n",
    "2. Regression(회귀)는 **supervised(지도)** 수치형 데이터를 통해 회귀선을 그리고 tack의 수치를 예측하는 형태이다.\n",
    "3. Classification(분류)는 **supervised(지도)** 범주형 데이터를 통해 task의 class를 예측하는 형태이다."
   ]
  },
  {
   "cell_type": "markdown",
   "metadata": {},
   "source": [
    "범위 : A.I > Machine Learning > Deep Learning\n",
    "\n",
    "but, A.I < Machine Learning < Deep Learning?!\n",
    "\n",
    "심슨 패러독스"
   ]
  },
  {
   "cell_type": "markdown",
   "metadata": {},
   "source": [
    "## 0. 데이터 전처리\n",
    "\n",
    "1. 결측치 처리\n",
    "    - 지우기(버리기)\n",
    "    - 대체하기(0, 평균, 중위값, 다른 수 등으로)\n",
    "    - 그대로 두기\n",
    "        * 만약 결측치를 대체했다면 다른 범주형 변수로 표시해주는 것이 좋음\n",
    "2. 틀린 값 처리\n",
    "    - 결측치와 같음\n",
    "3. 이상치 검출\n",
    "    - 결측치와 같음"
   ]
  },
  {
   "cell_type": "markdown",
   "metadata": {},
   "source": [
    "## 0.1 데이터 변환\n",
    "\n",
    "1. 범주형으로 변환\n",
    "2. min-max 정규화\n",
    "3. 표준정규화\n",
    "4. 로그 변환\n",
    "5. 역수 변환(x^-1)\n"
   ]
  },
  {
   "cell_type": "markdown",
   "metadata": {},
   "source": [
    "### 스케일링(scaling)\n",
    "\n",
    "여러 방법이 존재함.\n",
    "\n",
    "1. 최소-최대 스케일링(min-max scaling) : 값의 범위를 최소값 0, 최대값 1로 바꾸어 재조정하는 것.\n",
    "\n",
    "> python에서는 함수 **MinMaxScaler()**\n",
    "\n",
    "\n",
    "2. 표준 스케일링(standard scaling) : 표준정규분포로 형태를 바꾸어 표준화 시키는 것( (x-mean)/sigma )\n",
    "\n",
    "> python에서는 함수 **StandardScaler()**\n"
   ]
  },
  {
   "cell_type": "markdown",
   "metadata": {},
   "source": [
    "## 1. Clustering\n",
    "\n",
    ">군집 방법(유사도, 속성)\n",
    "\n",
    "1. K-mean : 거리 기준 군집화\n",
    "2. DBSCAN : 밀도 기준 군집화\n"
   ]
  },
  {
   "cell_type": "markdown",
   "metadata": {},
   "source": [
    "## 2. Linear Regression\n",
    "\n",
    "> 선형회귀\n",
    "\n",
    "**경사하강법(Gradient Descent, GD)** : <br/>\n",
    "    함수의 기울기(경사)를 구하여 최종적으로 기울기가 0으로 향하기 위하여 기울기가 낮은 쪽으로 계속 이동하는 방법\n",
    "\n",
    "1. y = wx + b\n",
    "2. y = w1* x1 + w2 * x2 + b\n",
    "3. Function call(이미 완성되있는 함수로 한번에)\n",
    "\n",
    "\n",
    "**하이퍼 파라메타**\n",
    "1. tranning(=learning) rate\n",
    "2. epoch"
   ]
  },
  {
   "cell_type": "code",
   "execution_count": 59,
   "metadata": {},
   "outputs": [
    {
     "name": "stdout",
     "output_type": "stream",
     "text": [
      "epoch= 0 error= 344.6582830845609 w= 10.49315304109927 b= 5.136848322411516\n",
      "epoch= 10 error= 118.38982582047181 w= 17.003030268443176 b= 8.579638700504294\n",
      "epoch= 20 error= 118.38980899027457 w= 17.00487959463089 b= 8.58045341414491\n",
      "epoch= 30 error= 118.38980899027334 w= 17.004880103565796 b= 8.580453637992962\n",
      "epoch= 40 error= 118.38980899027332 w= 17.00488010370582 b= 8.580453638054546\n",
      "epoch= 50 error= 118.38980899027331 w= 17.004880103705855 b= 8.580453638054562\n",
      "epoch= 60 error= 118.38980899027331 w= 17.004880103705855 b= 8.580453638054562\n",
      "epoch= 70 error= 118.38980899027331 w= 17.004880103705855 b= 8.580453638054562\n",
      "epoch= 80 error= 118.38980899027331 w= 17.004880103705855 b= 8.580453638054562\n",
      "epoch= 90 error= 118.38980899027331 w= 17.004880103705855 b= 8.580453638054562\n",
      "epoch= 100 error= 118.38980899027331 w= 17.004880103705855 b= 8.580453638054562\n",
      "epoch= 110 error= 118.38980899027331 w= 17.004880103705855 b= 8.580453638054562\n",
      "epoch= 120 error= 118.38980899027331 w= 17.004880103705855 b= 8.580453638054562\n",
      "epoch= 130 error= 118.38980899027331 w= 17.004880103705855 b= 8.580453638054562\n",
      "epoch= 140 error= 118.38980899027331 w= 17.004880103705855 b= 8.580453638054562\n",
      "epoch= 150 error= 118.38980899027331 w= 17.004880103705855 b= 8.580453638054562\n",
      "epoch= 160 error= 118.38980899027331 w= 17.004880103705855 b= 8.580453638054562\n",
      "epoch= 170 error= 118.38980899027331 w= 17.004880103705855 b= 8.580453638054562\n",
      "epoch= 180 error= 118.38980899027331 w= 17.004880103705855 b= 8.580453638054562\n",
      "epoch= 190 error= 118.38980899027331 w= 17.004880103705855 b= 8.580453638054562\n",
      "epoch= 200 error= 118.38980899027331 w= 17.004880103705855 b= 8.580453638054562\n",
      "epoch= 210 error= 118.38980899027331 w= 17.004880103705855 b= 8.580453638054562\n",
      "epoch= 220 error= 118.38980899027331 w= 17.004880103705855 b= 8.580453638054562\n",
      "epoch= 230 error= 118.38980899027331 w= 17.004880103705855 b= 8.580453638054562\n",
      "epoch= 240 error= 118.38980899027331 w= 17.004880103705855 b= 8.580453638054562\n",
      "epoch= 250 error= 118.38980899027331 w= 17.004880103705855 b= 8.580453638054562\n",
      "epoch= 260 error= 118.38980899027331 w= 17.004880103705855 b= 8.580453638054562\n",
      "epoch= 270 error= 118.38980899027331 w= 17.004880103705855 b= 8.580453638054562\n",
      "epoch= 280 error= 118.38980899027331 w= 17.004880103705855 b= 8.580453638054562\n",
      "epoch= 290 error= 118.38980899027331 w= 17.004880103705855 b= 8.580453638054562\n",
      "---------\n",
      "epoch= 299 error= 118.38980899027331 w= 17.004880103705855 b= 8.580453638054562\n"
     ]
    },
    {
     "data": {
      "text/plain": [
       "[<matplotlib.lines.Line2D at 0x24c93f7aa90>]"
      ]
     },
     "execution_count": 59,
     "metadata": {},
     "output_type": "execute_result"
    },
    {
     "data": {
      "image/png": "[encoded data removed]",
      "text/plain": [
       "<Figure size 360x360 with 1 Axes>"
      ]
     },
     "metadata": {
      "needs_background": "light"
     },
     "output_type": "display_data"
    }
   ],
   "source": [
    "# Linear Regression :\n",
    "# 1. y = wx + b\n",
    "\n",
    "import numpy as np\n",
    "import pandas as pd\n",
    "import matplotlib.pyplot as plt\n",
    "%matplotlib inline\n",
    "\n",
    "\n",
    "n = 100\n",
    "x = np.random.randn(n)\n",
    "y = x*20 + 10             # w=20 , b=10\n",
    "y = y + np.random.randn(n) * 10 #add noise\n",
    "x,y\n",
    "\n",
    "plt.figure(figsize=(5,5))\n",
    "plt.scatter(x,y)\n",
    "\n",
    "w = np.random.randn()      # random initial choise\n",
    "b = np.random.randn()\n",
    "\n",
    "lr = 0.7            #learning rate(=training rate)\n",
    "n_epoch =300        # number of epoch\n",
    "\n",
    "for epoch in range(n_epoch):\n",
    "    y_pred = w*x+b\n",
    "    error = ((y_pred-y)**2).mean()    # MSE : Mean sqare error\n",
    "    if error < 0.1:\n",
    "        break\n",
    "    w = w - lr * ((y_pred-y)*x).mean()\n",
    "    b = b - lr * (y_pred-y).mean()\n",
    "    if epoch%10 ==0 :\n",
    "        print('epoch=', epoch, \"error=\", error, \"w=\", w, 'b=', b)\n",
    "    \n",
    "\n",
    "print(\"---------\")\n",
    "print('epoch=', epoch, \"error=\", error, \"w=\", w, 'b=', b)\n",
    "\n",
    "\n",
    "xx = np.linspace(-3,3,100)\n",
    "yy = w*x + b\n",
    "plt.plot(x,yy,c='k')"
   ]
  },
  {
   "cell_type": "code",
   "execution_count": 96,
   "metadata": {},
   "outputs": [
    {
     "name": "stdout",
     "output_type": "stream",
     "text": [
      "epoch= 0 error= 3820.2641121941797 w1= 16.398962862624796 w2 18.858707092942204 b= 34.71085450142147\n",
      "epoch= 10000 error= 340.2969787917612 w1= 27.60276696217007 w2 36.027911199186214 b= 49.85644954653717\n",
      "epoch= 20000 error= 340.2969787917612 w1= 27.60276696217007 w2 36.027911199186214 b= 49.85644954653717\n",
      "---------\n",
      "epoch= 29999 error= 340.2969787917612 w1= 27.60276696217007 w=2 36.027911199186214 b= 49.85644954653717\n"
     ]
    }
   ],
   "source": [
    "# Linear Regression : \n",
    "# 2. y = w1* x1 + w2 * x2 + b\n",
    "\n",
    "import numpy as np\n",
    "import pandas as pd\n",
    "import matplotlib.pyplot as plt\n",
    "%matplotlib inline\n",
    "\n",
    "n = 100\n",
    "x1 = np.random.randn(n)\n",
    "x2 = np.random.randn(n)\n",
    "y = x1*30 +x2*40 + 50             # w1=30, w2=40, b=50\n",
    "y = y + np.random.randn(n) * 20 #add noise\n",
    "\n",
    "w1 = np.random.randn()      # random initial choise\n",
    "w2 = np.random.randn()\n",
    "b = np.random.randn()\n",
    "\n",
    "lr = 0.8            #learning rate(=training rate)\n",
    "n_epoch = 3000      # number of epoch\n",
    "\n",
    "for epoch in range(n_epoch):\n",
    "    y_pred = w1*x1 + w2*x2 + b\n",
    "    error = ((y_pred - y)**2).mean()    # MSE : Mean sqare error\n",
    "    if error < 0.01:\n",
    "        break\n",
    "    w1 = w1 - lr * ((y_pred-y)*x1).mean()\n",
    "    w2 = w2 - lr * ((y_pred-y)*x2).mean()\n",
    "    b = b - lr * (y_pred-y).mean()\n",
    "    if epoch%1000 == 0 :\n",
    "        print('epoch=', epoch, \"error=\", error, \"w1=\", w1, 'w2', w2, 'b=', b)\n",
    "\n",
    "print(\"---------\")\n",
    "print('epoch=', epoch, \"error=\", error, \"w1=\", w1, 'w=2', w2, 'b=', b)"
   ]
  },
  {
   "cell_type": "code",
   "execution_count": 125,
   "metadata": {},
   "outputs": [],
   "source": [
    "# Linear Regression :\n",
    "# 3. Function call(이미 완성되있는 함수로 한번에)\n",
    "\n",
    "import numpy as np\n",
    "import pandas as pd\n",
    "import matplotlib.pyplot as plt\n",
    "%matplotlib inline\n",
    "\n",
    "n = 100\n",
    "x1 = np.random.randn(n)\n",
    "x2 = np.random.randn(n)\n",
    "y = x1*30 +x2*40 + 50             # w1=30, w2=40, b=50\n",
    "y = y + np.random.randn(n) * 20 #add noise"
   ]
  },
  {
   "cell_type": "code",
   "execution_count": 126,
   "metadata": {},
   "outputs": [
    {
     "data": {
      "text/plain": [
       "(array([31.32432483, 40.64114637]), 51.755208951474195)"
      ]
     },
     "execution_count": 126,
     "metadata": {},
     "output_type": "execute_result"
    }
   ],
   "source": [
    "X = pd.DataFrame(x1)\n",
    "X[1] = x2\n",
    "\n",
    "from sklearn.linear_model import LinearRegression\n",
    "# sklearn이라는 머신러닝에서 LinearRegression이라는 함수를 가져옴\n",
    "\n",
    "model = LinearRegression()\n",
    "model.fit(X,y)\n",
    "model.coef_, model.intercept_                # w1,2값, b값"
   ]
  },
  {
   "cell_type": "markdown",
   "metadata": {},
   "source": [
    "## 이제 예측해보자!"
   ]
  },
  {
   "cell_type": "code",
   "execution_count": 128,
   "metadata": {},
   "outputs": [
    {
     "data": {
      "text/plain": [
       "array([205.00297288])"
      ]
     },
     "execution_count": 128,
     "metadata": {},
     "output_type": "execute_result"
    }
   ],
   "source": [
    "new_X=[1,3]              # 31*1 + 40*3 + 51 = 205\n",
    "model.predict([new_X])"
   ]
  },
  {
   "cell_type": "code",
   "execution_count": 130,
   "metadata": {},
   "outputs": [
    {
     "name": "stdout",
     "output_type": "stream",
     "text": [
      "[ 76.3297284  107.17610385  89.4168319   84.94905692  81.16489261\n",
      "  76.69356436  87.11524987  90.48917962 102.1319261   99.0426317\n",
      " 112.47256019  72.58830907 104.54768966  76.34954081  97.25478657\n",
      "  94.67335265  85.2357489   55.08130257 103.91580746  99.30175917\n",
      "  70.6060664   86.0274515  120.41778405 107.69076121  60.35481307\n",
      "  79.00608368 105.97912386  70.15788863  72.38103322  95.11865565\n",
      "  90.67806321  75.45041286  90.16465953  79.67150771  83.07519002\n",
      " 113.50799443  79.78216195  95.56479324  73.30980405  71.90391005\n",
      " 100.82023305  82.17844843  61.0128122  100.61339945  85.44366262\n",
      "  59.1553015   92.55061822  62.7653897   86.61977354  76.13411309\n",
      "  91.17622825  97.28550736  82.38868582 113.22653851  91.19598994\n",
      "  74.38919245 120.71770769 114.06604796  65.22404802  82.94831414\n",
      "  57.49807933  89.08988921 111.48734059  89.21757951  98.67595483\n",
      " 113.25716688  88.80168085  94.99607069  80.57747645  73.56614242\n",
      "  60.26896995 100.16669095  92.02589272  92.18812258  98.98440711\n",
      "  87.22868878  99.3704037  103.33236102  92.47893076  76.5470643\n",
      "  82.30552337  86.77515358  90.95105255  57.86565416  99.95848805\n",
      "  89.272455    74.61864817  66.47259712  95.79680515  92.21312018\n",
      " 104.66494461 108.35734827  86.91898038  94.46482139  74.11737003\n",
      "  67.55218397  72.46903073  96.25982736  80.45528852 102.05010084]\n"
     ]
    }
   ],
   "source": [
    "z = np.random.rand(100,2)\n",
    "print(model.predict(z))"
   ]
  },
  {
   "cell_type": "markdown",
   "metadata": {},
   "source": [
    "# 3.  Linear Classification\n"
   ]
  }
 ],
 "metadata": {
  "kernelspec": {
   "display_name": "Python 3",
   "language": "python",
   "name": "python3"
  },
  "language_info": {
   "codemirror_mode": {
    "name": "ipython",
    "version": 3
   },
   "file_extension": ".py",
   "mimetype": "text/x-python",
   "name": "python",
   "nbconvert_exporter": "python",
   "pygments_lexer": "ipython3",
   "version": "3.7.0"
  }
 },
 "nbformat": 4,
 "nbformat_minor": 2
}
